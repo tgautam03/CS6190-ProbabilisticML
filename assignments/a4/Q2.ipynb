{
 "cells": [
  {
   "cell_type": "code",
   "execution_count": 1,
   "id": "a4dfc1eb",
   "metadata": {},
   "outputs": [],
   "source": [
    "import numpy as np\n",
    "from scipy.special import expit\n",
    "from scipy.optimize import minimize\n",
    "from scipy.stats import multivariate_normal\n",
    "import csv\n",
    "import pandas as pd"
   ]
  },
  {
   "cell_type": "markdown",
   "id": "5ab03f14",
   "metadata": {},
   "source": [
    "# Part a"
   ]
  },
  {
   "cell_type": "code",
   "execution_count": 2,
   "id": "104691ea",
   "metadata": {},
   "outputs": [
    {
     "data": {
      "text/plain": [
       "((872, 5), (872,))"
      ]
     },
     "execution_count": 2,
     "metadata": {},
     "output_type": "execute_result"
    }
   ],
   "source": [
    "df = pd.read_csv(\"data/data/bank-note/train.csv\", header=None)\n",
    "d = df.to_numpy()\n",
    "X = d[:,:-1]\n",
    "x = np.hstack((X,np.ones((X.shape[0],1))))\n",
    "\n",
    "y = d[:,-1]\n",
    "\n",
    "x.shape, y.shape"
   ]
  },
  {
   "cell_type": "code",
   "execution_count": 3,
   "id": "2da12582",
   "metadata": {},
   "outputs": [
    {
     "data": {
      "text/plain": [
       "((500, 5), (500,))"
      ]
     },
     "execution_count": 3,
     "metadata": {},
     "output_type": "execute_result"
    }
   ],
   "source": [
    "df = pd.read_csv(\"data/data/bank-note/test.csv\", header=None)\n",
    "d = df.to_numpy()\n",
    "x_test = d[:,:-1]\n",
    "x_test = np.hstack((x_test,np.ones((x_test.shape[0],1))))\n",
    "\n",
    "y_test = d[:,-1]\n",
    "\n",
    "x_test.shape, y_test.shape"
   ]
  },
  {
   "cell_type": "code",
   "execution_count": 14,
   "id": "5389cb95",
   "metadata": {},
   "outputs": [],
   "source": [
    "def compute_map(x, y, w0):\n",
    "    def log_posterior(w):\n",
    "        global x, y\n",
    "        w = w.reshape((x.shape[1],1))\n",
    "        y = y.reshape(y.shape[0],1)\n",
    "        temp = expit(np.dot(x, w))\n",
    "        pos = np.sum(y*np.log(temp) + (1-y)*np.log(1-temp)) - np.dot(w.T, w)/2\n",
    "        return(-pos)\n",
    "    return(minimize(log_posterior, w0))\n",
    "\n",
    "def get_precision(x, w_map):\n",
    "    sigmoid = expit(np.dot(x, w_map))\n",
    "    prec = np.eye(x.shape[1])\n",
    "    for i in range(x.shape[0]):\n",
    "        temp1 = x[i].reshape(x[i].shape[0], 1)\n",
    "        prec = prec + np.dot(temp1, temp1.T) * sigmoid[i] * (1 - sigmoid[i])\n",
    "    return prec\n",
    "\n",
    "def laplace_approx(x,y):\n",
    "    res = compute_map(x, y.reshape(y.shape[0], 1), np.zeros((x.shape[1], 1)))\n",
    "    w_map = res.x\n",
    "    prec = get_precision(x, w_map)\n",
    "    cov = np.linalg.inv(prec)\n",
    "    return w_map, cov"
   ]
  },
  {
   "cell_type": "code",
   "execution_count": 15,
   "id": "e91d0377",
   "metadata": {
    "scrolled": true
   },
   "outputs": [
    {
     "name": "stdout",
     "output_type": "stream",
     "text": [
      "\n",
      "\n",
      "=====================================================================\n",
      "\n",
      "Laplace approximation : \n",
      "\n",
      "Mean : \n",
      " [-2.69321794 -1.59105672 -1.899262   -0.17689793  2.8559403 ]\n",
      "\n",
      "Covariance : \n",
      " [[ 0.1196425   0.05318792  0.0718138   0.00963916 -0.05634873]\n",
      " [ 0.05318792  0.05011861  0.05299435  0.02319023 -0.02708633]\n",
      " [ 0.0718138   0.05299435  0.06217006  0.01966921 -0.04066413]\n",
      " [ 0.00963916  0.02319023  0.01966921  0.0382288   0.02068531]\n",
      " [-0.05634873 -0.02708633 -0.04066413  0.02068531  0.13679755]]\n"
     ]
    }
   ],
   "source": [
    "print(\"\\n\\n=====================================================================\\n\")\n",
    "print(\"Laplace approximation : \")\n",
    "w_map, cov = laplace_approx(x, y)\n",
    "print(\"\\nMean : \\n\", w_map)\n",
    "print(\"\\nCovariance : \\n\", cov)"
   ]
  },
  {
   "cell_type": "code",
   "execution_count": 16,
   "id": "00294625",
   "metadata": {},
   "outputs": [],
   "source": [
    "def test(w, X, y):\n",
    "    n,d = X.shape\n",
    "    mu = expit(np.dot(X,w))\n",
    "    yhat = np.zeros((n,1))\n",
    "    yhat[mu>0.5]=1\n",
    "    yhat = yhat.reshape(y.shape)\n",
    "    correct = np.sum(yhat==y)\n",
    "    return(correct,n)"
   ]
  },
  {
   "cell_type": "code",
   "execution_count": 17,
   "id": "b9023edf",
   "metadata": {},
   "outputs": [
    {
     "name": "stdout",
     "output_type": "stream",
     "text": [
      "\n",
      "Test Accuracy 0.99\n"
     ]
    }
   ],
   "source": [
    "(correct, n) = test(w_map, x_test, y_test)\n",
    "print(\"\\nTest Accuracy\", correct / n)"
   ]
  },
  {
   "cell_type": "code",
   "execution_count": 18,
   "id": "748bafe9",
   "metadata": {},
   "outputs": [],
   "source": [
    "def predictive_likelihood(x_test, y_test, m, s):\n",
    "    likelihood = 0.0\n",
    "    for i in range(x_test.shape[0]):\n",
    "        x_i = x_test[i].reshape(x_test[i].shape[0],1)\n",
    "        m = m.reshape(m.shape[0],1)\n",
    "        mu = np.dot(x_i.transpose(),m)\n",
    "        std = np.sqrt(np.matmul(np.matmul(x_i.transpose(), s), x_i))\n",
    "        prob_1 = gauss_hermite(mu, std)*(1/np.sqrt(np.pi))\n",
    "        likelihood += prob_1 * y_test[i] + (1 - prob_1) * (1 - y_test[i])\n",
    "    return (likelihood/x_test.shape[0])\n",
    "\n",
    "def gauss_hermite(mean, std):\n",
    "    degree = 100\n",
    "    points, weights = np.polynomial.hermite.hermgauss(degree)\n",
    "    val = expit(points*np.sqrt(2)*std + mean)\n",
    "    F = np.sum(val*weights)\n",
    "    return F"
   ]
  },
  {
   "cell_type": "code",
   "execution_count": 19,
   "id": "04a780b4",
   "metadata": {},
   "outputs": [
    {
     "name": "stdout",
     "output_type": "stream",
     "text": [
      "Predictive likelihood :  0.9745001197087079\n"
     ]
    }
   ],
   "source": [
    "like = predictive_likelihood(x_test, y_test, w_map, cov)\n",
    "print(\"Predictive likelihood : \", like)"
   ]
  },
  {
   "cell_type": "markdown",
   "id": "aeafad44",
   "metadata": {},
   "source": [
    "# Part b"
   ]
  },
  {
   "cell_type": "code",
   "execution_count": 20,
   "id": "fc9b0892",
   "metadata": {},
   "outputs": [
    {
     "name": "stdout",
     "output_type": "stream",
     "text": [
      "\n",
      "\n",
      "=====================================================================\n",
      "\n",
      "Laplace approximation with diagonal hessian : \n",
      "\n",
      "Mean : \n",
      " [-2.69321794 -1.59105672 -1.899262   -0.17689793  2.8559403 ]\n",
      "\n",
      "Covariance : \n",
      " [[ 0.1196425   0.          0.          0.         -0.        ]\n",
      " [ 0.          0.05011861  0.          0.         -0.        ]\n",
      " [ 0.          0.          0.06217006  0.         -0.        ]\n",
      " [ 0.          0.          0.          0.0382288   0.        ]\n",
      " [-0.         -0.         -0.          0.          0.13679755]]\n",
      "\n",
      "Test Accuracy 0.99\n",
      "Predictive likelihood :  0.9591358360740148\n"
     ]
    }
   ],
   "source": [
    "#with hessian covariance\n",
    "print(\"\\n\\n=====================================================================\\n\")\n",
    "print(\"Laplace approximation with diagonal hessian : \")\n",
    "cov_hess = np.multiply(cov,np.eye(cov.shape[0]))\n",
    "like = predictive_likelihood(x_test, y_test, w_map, cov_hess)\n",
    "print(\"\\nMean : \\n\", w_map)\n",
    "print(\"\\nCovariance : \\n\", cov_hess)\n",
    "print(\"\\nTest Accuracy\", correct / n)\n",
    "print(\"Predictive likelihood : \", like)"
   ]
  },
  {
   "cell_type": "markdown",
   "id": "915275ce",
   "metadata": {},
   "source": [
    "# Part c"
   ]
  },
  {
   "cell_type": "code",
   "execution_count": 23,
   "id": "3a4c486e",
   "metadata": {},
   "outputs": [],
   "source": [
    "def compute_mean(m0, s0, s, x, y):\n",
    "    m0 = m0.reshape((m0.shape[0],1))\n",
    "    temp1 = np.matmul(np.linalg.inv(s0),m0).reshape(m0.shape)\n",
    "    temp2 = 0\n",
    "    for i in range(x.shape[0]):\n",
    "        temp2 = temp2+(y[i]-0.5)*x[i]\n",
    "    temp2 = temp2.reshape(m0.shape)\n",
    "    m = np.matmul(s, temp1 + temp2)\n",
    "    return m\n",
    "\n",
    "def compute_xi(x, s, m):\n",
    "    temp1 = s+np.matmul(m.reshape(-1,1), m.reshape(-1,1).transpose())\n",
    "    xi = np.zeros(x.shape[0])\n",
    "    for i in range(x.shape[0]):\n",
    "        temp2 = np.matmul(x[i].reshape(1,-1), temp1)\n",
    "        xi[i] = np.sqrt(np.matmul(temp2, x[i].reshape(1,-1).transpose()))\n",
    "    return xi\n",
    "\n",
    "def compute_lambda(xi):\n",
    "    temp = expit(xi)-0.5\n",
    "    for i in range(xi.shape[0]):\n",
    "        temp[i] = temp[i]/(2*xi[i] + 1e-5)\n",
    "    return temp\n",
    "\n",
    "def compute_cov(s0, xi, x):\n",
    "    temp = 0\n",
    "    lamb = compute_lambda(xi)\n",
    "    for i in range(x.shape[0]):\n",
    "        temp = temp+lamb[i]*np.matmul(x[i].reshape(-1,1), x[i].reshape(-1,1).transpose())\n",
    "    s = np.linalg.inv(s0) + 2 * temp\n",
    "    return np.linalg.inv(s)\n",
    "\n",
    "def variational_logistic(x, y):\n",
    "    max_iter = 100  \n",
    "    xi = np.ones(x.shape[0])\n",
    "    m0 = np.zeros(x.shape[1])\n",
    "    s0 = np.eye(x.shape[1])\n",
    "    for i in range(max_iter):\n",
    "        s = compute_cov(s0, xi, x)\n",
    "        m = compute_mean(m0, s0, s, x, y)\n",
    "        xi = compute_xi(x, s, m).reshape(x.shape[0])\n",
    "    return m,s"
   ]
  },
  {
   "cell_type": "code",
   "execution_count": 24,
   "id": "c74b6375",
   "metadata": {},
   "outputs": [
    {
     "name": "stdout",
     "output_type": "stream",
     "text": [
      "\n",
      "\n",
      "=====================================================================\n",
      "\n",
      "Variational logistic regression inference using EM updates\n",
      "\n",
      "Mean : \n",
      " [-2.50491512 -1.46827861 -1.75477872 -0.13286228  2.79364586]\n",
      "\n",
      "Covariance : \n",
      " [[ 0.00328581 -0.00021109  0.0007029  -0.00176941 -0.0026148 ]\n",
      " [-0.00021109  0.00171986  0.00143007  0.00152302 -0.00186669]\n",
      " [ 0.0007029   0.00143007  0.00210823  0.00037659 -0.00398946]\n",
      " [-0.00176941  0.00152302  0.00037659  0.00592795  0.00478958]\n",
      " [-0.0026148  -0.00186669 -0.00398946  0.00478958  0.02726292]]\n",
      "\n",
      "Test Accuracy 0.99\n",
      "Predictive likelihood :  0.9750105165467248\n"
     ]
    }
   ],
   "source": [
    "print(\"\\n\\n=====================================================================\\n\")\n",
    "print(\"Variational logistic regression inference using EM updates\")\n",
    "w_map_var, cov_var = variational_logistic(x,y)\n",
    "w_map_var = w_map_var.squeeze()\n",
    "(correct, n) = test(w_map_var, x_test, y_test)\n",
    "like = predictive_likelihood(x_test, y_test, w_map_var, cov_var)\n",
    "print(\"\\nMean : \\n\", w_map_var)\n",
    "print(\"\\nCovariance : \\n\", cov_var)\n",
    "print(\"\\nTest Accuracy\", correct / n)\n",
    "print(\"Predictive likelihood : \", like)"
   ]
  },
  {
   "cell_type": "markdown",
   "id": "c1754509",
   "metadata": {},
   "source": [
    "# Part d"
   ]
  },
  {
   "cell_type": "code",
   "execution_count": 25,
   "id": "4e6d143f",
   "metadata": {},
   "outputs": [],
   "source": [
    "def compute_cov_meanfield(xi, x):\n",
    "    lamb = compute_lambda(xi)\n",
    "    lamb = lamb[:,np.newaxis]\n",
    "    lamb = np.repeat(lamb, x.shape[1], axis=1)\n",
    "    prec = 1/(2*(np.sum(np.multiply(np.multiply(x, x),lamb), axis = 0) + 0.5))\n",
    "    s = np.multiply(np.eye(x.shape[1]), prec)\n",
    "    return s\n",
    "\n",
    "def compute_mean_meanfield(m, s, xi, x, y):\n",
    "    y = np.repeat(y, x.shape[1], axis=1) - 0.5\n",
    "    first_term = np.sum(np.multiply(x, y), axis=0)\n",
    "    temp1 = np.multiply(x, np.repeat(m[np.newaxis,:], x.shape[0], axis=0))\n",
    "    lamb = compute_lambda(xi)\n",
    "    lamb = lamb[:, np.newaxis]\n",
    "    lamb = np.repeat(lamb, x.shape[1], axis=1)\n",
    "    xl = np.multiply(x, lamb)\n",
    "    for i in range(x.shape[1]):\n",
    "        temp2 = 0\n",
    "        for j in range(x.shape[1]):\n",
    "            if(j != i):\n",
    "                temp2 += np.sum(np.multiply(temp1[:,j], xl[:,i]))\n",
    "        second_term = -2*temp2\n",
    "        m[i] = (first_term[i]+second_term)*s[i,i]\n",
    "    return m\n",
    "\n",
    "def variational_logistic_meanfield(x, y):\n",
    "    max_iter = 100\n",
    "    xi = -np.ones(x.shape[0])\n",
    "    m = np.ones(x.shape[1])\n",
    "    s = np.zeros((x.shape[1], x.shape[1]))\n",
    "    #s = np.eye(x.shape[1])\n",
    "    for i in range(max_iter):\n",
    "        s = compute_cov_meanfield(xi, x)\n",
    "        m = compute_mean_meanfield(m, s, xi, x, y)\n",
    "        xi = compute_xi(x, s, m).reshape(x.shape[0])\n",
    "    return m,s"
   ]
  },
  {
   "cell_type": "code",
   "execution_count": 26,
   "id": "6d56634f",
   "metadata": {},
   "outputs": [
    {
     "name": "stdout",
     "output_type": "stream",
     "text": [
      "\n",
      "\n",
      "=====================================================================\n",
      "\n",
      "Variational logistic regression meanfield inference using EM updates\n",
      "\n",
      "Mean : \n",
      " [-1.95838294 -1.01324036 -1.24271807  0.03999042  2.43016352]\n",
      "\n",
      "Covariance : \n",
      " [[0.00184179 0.         0.         0.         0.        ]\n",
      " [0.         0.0003503  0.         0.         0.        ]\n",
      " [0.         0.         0.00048542 0.         0.        ]\n",
      " [0.         0.         0.         0.00210372 0.        ]\n",
      " [0.         0.         0.         0.         0.01161653]]\n",
      "\n",
      "Test Accuracy 0.984\n",
      "Predictive likelihood :  0.9666392736213947\n"
     ]
    }
   ],
   "source": [
    "print(\"\\n\\n=====================================================================\\n\")\n",
    "print(\"Variational logistic regression meanfield inference using EM updates\")\n",
    "w_map_varm, cov_varm = variational_logistic_meanfield(x, y)\n",
    "(correct, n) = test(w_map_varm, x_test, y_test)\n",
    "like = predictive_likelihood(x_test, y_test, w_map_varm, cov_varm)\n",
    "print(\"\\nMean : \\n\", w_map_varm)\n",
    "print(\"\\nCovariance : \\n\", cov_varm)\n",
    "print(\"\\nTest Accuracy\", correct / n)\n",
    "print(\"Predictive likelihood : \", like)"
   ]
  },
  {
   "cell_type": "code",
   "execution_count": null,
   "id": "512c96fc",
   "metadata": {},
   "outputs": [],
   "source": []
  }
 ],
 "metadata": {
  "kernelspec": {
   "display_name": "Python 3 (ipykernel)",
   "language": "python",
   "name": "python3"
  },
  "language_info": {
   "codemirror_mode": {
    "name": "ipython",
    "version": 3
   },
   "file_extension": ".py",
   "mimetype": "text/x-python",
   "name": "python",
   "nbconvert_exporter": "python",
   "pygments_lexer": "ipython3",
   "version": "3.8.10"
  }
 },
 "nbformat": 4,
 "nbformat_minor": 5
}
